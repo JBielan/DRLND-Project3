{
 "cells": [
  {
   "cell_type": "markdown",
   "metadata": {},
   "source": [
    "# DRLND Project 3 - Collaboration and Competition (Tennis environment)\n",
    "\n",
    "---\n",
    "This notebook presents a solution to the [Udacity Deep Reinforcement Learning Nanodegree](https://www.udacity.com/course/deep-reinforcement-learning-nanodegree--nd893) Project 3 - Collaboration and Competition of the [Unity3D](https://unity3d.com/machine-learning/) Udacity [Tennis environment (Mac version)](https://s3-us-west-1.amazonaws.com/udacity-drlnd/P3/Tennis/Tennis.app.zip) (a version of the [Unity Tennis environment](https://github.com/Unity-Technologies/ml-agents/blob/master/docs/Learning-Environment-Examples.md#tennis) modified to have a single pair of agents) where the goal is for the agents (tennis racquets) to move towards or away from the net and up and down so they collide with a ball before it collides with the floor, causing it to pass over the net ... but not collide with the back wall (\"go out\").  All play takes place in a 2D plane.\n",
    "\n",
    "### 1. Start the Environment\n",
    "\n",
    "We begin by importing the necessary packages.  If the code cell below returns an error, please revisit the project instructions to double-check that you have installed [Unity ML-Agents](https://github.com/Unity-Technologies/ml-agents/blob/master/docs/Installation.md) and [NumPy](http://www.numpy.org/)."
   ]
  },
  {
   "cell_type": "code",
   "execution_count": 1,
   "metadata": {},
   "outputs": [],
   "source": [
    "from unityagents import UnityEnvironment\n",
    "import numpy as np"
   ]
  },
  {
   "cell_type": "markdown",
   "metadata": {},
   "source": [
    "Next, we will start the environment! "
   ]
  },
  {
   "cell_type": "code",
   "execution_count": 2,
   "metadata": {},
   "outputs": [
    {
     "name": "stderr",
     "output_type": "stream",
     "text": [
      "INFO:unityagents:\n",
      "'Academy' started successfully!\n",
      "Unity Academy name: Academy\n",
      "        Number of Brains: 1\n",
      "        Number of External Brains : 1\n",
      "        Lesson number : 0\n",
      "        Reset Parameters :\n",
      "\t\t\n",
      "Unity brain name: TennisBrain\n",
      "        Number of Visual Observations (per agent): 0\n",
      "        Vector Observation space type: continuous\n",
      "        Vector Observation space size (per agent): 8\n",
      "        Number of stacked Vector Observation: 3\n",
      "        Vector Action space type: continuous\n",
      "        Vector Action space size (per agent): 2\n",
      "        Vector Action descriptions: , \n"
     ]
    }
   ],
   "source": [
    "env = UnityEnvironment(file_name=\"/Users/johngraves/20181013/Tennis.app\")"
   ]
  },
  {
   "cell_type": "markdown",
   "metadata": {},
   "source": [
    "Environments contain **_brains_** which are responsible for deciding the actions of their associated agents. Here we check for the first brain available, and set it as the default brain we will be controlling from Python."
   ]
  },
  {
   "cell_type": "code",
   "execution_count": 3,
   "metadata": {},
   "outputs": [
    {
     "name": "stdout",
     "output_type": "stream",
     "text": [
      "Using brain TennisBrain\n"
     ]
    }
   ],
   "source": [
    "# get the default brain\n",
    "brain_name = env.brain_names[0]\n",
    "brain = env.brains[brain_name]\n",
    "print(\"Using brain {}\".format(brain_name))"
   ]
  },
  {
   "cell_type": "markdown",
   "metadata": {},
   "source": [
    "### 2. Examine the State and Action Spaces\n",
    "\n",
    "In this environment, two agents control rackets to bounce a ball over a net. If an agent hits the ball over the net, it receives a reward of +0.1.  If an agent lets a ball hit the ground or hits the ball out of bounds, it receives a reward of -0.01.  Thus, the goal of each agent is to keep the ball in play.\n",
    "\n",
    "The observation space consists of 8 variables corresponding to the position and velocity of the ball and racket. Two continuous actions are available, corresponding to movement toward (or away from) the net, and jumping. \n",
    "\n",
    "Run the code cell below to print some information about the environment."
   ]
  },
  {
   "cell_type": "code",
   "execution_count": 8,
   "metadata": {},
   "outputs": [
    {
     "name": "stdout",
     "output_type": "stream",
     "text": [
      "Number of agents: 2\n",
      "Size of each action: 2\n",
      "There are 2 agents. Each observes a state with length: 24\n",
      "\n",
      "The reshaped state vector for the first agent looks like:\n",
      "racket x pos      0.0 0.0 -7.38993644714\n",
      "racket y pos      0.0 0.0 -1.5\n",
      "racket x velocity 0.0 0.0 -0.0\n",
      "racket y velocity 0.0 0.0 0.0\n",
      "ball   x pos      0.0 0.0 6.83172082901\n",
      "ball   y pos      0.0 0.0 5.91759634018\n",
      "ball   x velocity 0.0 0.0 -0.0\n",
      "ball   y velocity 0.0 0.0 0.0\n"
     ]
    }
   ],
   "source": [
    "# reset the environment\n",
    "env_info = env.reset(train_mode=True)[brain_name]\n",
    "\n",
    "# number of agents \n",
    "num_agents = len(env_info.agents)\n",
    "print('Number of agents:', num_agents)\n",
    "\n",
    "# size of each action\n",
    "action_size = brain.vector_action_space_size\n",
    "print('Size of each action:', action_size)\n",
    "\n",
    "# examine the state space \n",
    "states = env_info.vector_observations\n",
    "state_size = states.shape[1]\n",
    "print('There are {} agents. Each observes a state with length: {}\\n'.format(states.shape[0],\n",
    "                                                                            states.shape[1]))\n",
    "\n",
    "state_vector_names = ['racket x pos     ', 'racket y pos     ', 'racket x velocity', 'racket y velocity',\n",
    "                      'ball   x pos     ', 'ball   y pos     ', 'ball   x velocity', 'ball   y velocity']\n",
    "\n",
    "print('The reshaped state vector for the first agent looks like:')\n",
    "state_stack = states[0].reshape(3, 8)\n",
    "_ = [print(state_vector_names[index], \n",
    "           state_stack[0][index], \n",
    "           state_stack[1][index], \n",
    "           state_stack[2][index]) for index in range(8)]"
   ]
  },
  {
   "cell_type": "markdown",
   "metadata": {},
   "source": [
    "After a **step** in the environment ..."
   ]
  },
  {
   "cell_type": "code",
   "execution_count": 37,
   "metadata": {},
   "outputs": [
    {
     "name": "stdout",
     "output_type": "stream",
     "text": [
      "The reshaped state vector for the first agent looks like:\n",
      "racket x pos      -7.97543001175 -4.97543048859 -7.97543001175\n",
      "racket y pos      -1.5 -1.55886006355 -1.71581995487\n",
      "racket x velocity -0.0 30.0 -30.0\n",
      "racket y velocity 0.0 -0.981000006199 -1.9620000124\n",
      "ball   x pos      7.98256969452 7.98256969452 7.98256969452\n",
      "ball   y pos      5.89012813568 5.69392824173 5.39962816238\n",
      "ball   x velocity -0.0 30.0 -30.0\n",
      "ball   y velocity 0.0 -0.981000006199 -1.9620000124\n"
     ]
    }
   ],
   "source": [
    "actions = np.random.randn(num_agents, action_size) # select an action (for each agent)\n",
    "actions = np.clip(actions, -1, 1)                  # all actions between -1 and 1\n",
    "env_info = env.step(actions)[brain_name]           # send all actions to tne environment\n",
    "next_states = env_info.vector_observations         # get next state (for each agent)\n",
    "print('The reshaped state vector for the first agent looks like:')\n",
    "state_stack = next_states[0].reshape(3, 8)\n",
    "_ = [print(state_vector_names[index], \n",
    "           state_stack[0][index], \n",
    "           state_stack[1][index], \n",
    "           state_stack[2][index]) for index in range(8)]"
   ]
  },
  {
   "cell_type": "markdown",
   "metadata": {},
   "source": [
    "... you can see how the position vector has shifted left one level in the **stack** of 3.\n",
    "\n",
    "Thus, only the *final 8 values* of the state provide new information."
   ]
  },
  {
   "cell_type": "code",
   "execution_count": 38,
   "metadata": {},
   "outputs": [
    {
     "name": "stdout",
     "output_type": "stream",
     "text": [
      "racket x pos      -7.97543001175\n",
      "racket y pos      -1.71581995487\n",
      "racket x velocity -30.0\n",
      "racket y velocity -1.9620000124\n",
      "ball   x pos      7.98256969452\n",
      "ball   y pos      5.39962816238\n",
      "ball   x velocity -30.0\n",
      "ball   y velocity -1.9620000124\n"
     ]
    }
   ],
   "source": [
    "_ = [print(state_vector_names[index], \n",
    "           state_stack[2][index]) for index in range(8)]"
   ]
  },
  {
   "cell_type": "markdown",
   "metadata": {},
   "source": [
    "We can reduce the observed state to just these values."
   ]
  },
  {
   "cell_type": "code",
   "execution_count": 48,
   "metadata": {},
   "outputs": [
    {
     "name": "stdout",
     "output_type": "stream",
     "text": [
      "Now there are 2 agents. Each observes a state with length: 8\n",
      "This yields a total observed state for both agents with length: 16\n"
     ]
    }
   ],
   "source": [
    "next_states = np.array([state.reshape(3, 8)[2] for state in next_states])\n",
    "state_size = next_states.shape[1]\n",
    "print('Now there are {} agents. Each observes a state with length: {}'.format(next_states.shape[0], state_size))\n",
    "print('This yields a total observed state for both agents with length: {}'.format(num_agents * state_size))"
   ]
  },
  {
   "cell_type": "markdown",
   "metadata": {},
   "source": [
    "Within these 16 state values, the x-y position of the ball as viewed by each agent should be the same, but for the sign of x."
   ]
  },
  {
   "cell_type": "code",
   "execution_count": 12,
   "metadata": {},
   "outputs": [],
   "source": [
    "def six_wide(l):\n",
    "    return \" \".join([\"{:>6}\".format(round(x,2)) for x in l])"
   ]
  },
  {
   "cell_type": "code",
   "execution_count": 13,
   "metadata": {},
   "outputs": [
    {
     "name": "stdout",
     "output_type": "stream",
     "text": [
      "              x      y  x-vel  y-vel\n",
      "Racket 0  -6.88  -1.56   5.12  -0.98\n",
      "Racket 1  -4.84  -1.56  18.56  -0.98\n",
      "Ball   0   6.83   5.74   5.12  -0.98\n",
      "Ball   1  -6.83   5.74  18.56  -0.98\n"
     ]
    }
   ],
   "source": [
    "print(\"              x      y  x-vel  y-vel\")\n",
    "next_states_rackets = [state[:4] for state in next_states]\n",
    "_ = [print(\"Racket {}\".format(i), six_wide(next_states_rackets[i])) for i in range(len(next_states_rackets))]\n",
    "next_states_balls = [state[4:] for state in next_states]\n",
    "_ = [print(\"Ball   {}\".format(i), six_wide(next_states_balls[i])) for i in range(len(next_states_balls))]"
   ]
  },
  {
   "cell_type": "markdown",
   "metadata": {},
   "source": [
    "The environment also returns a **reward** for each agent for each step. These are alternately zero."
   ]
  },
  {
   "cell_type": "code",
   "execution_count": 14,
   "metadata": {},
   "outputs": [
    {
     "data": {
      "text/plain": [
       "[0.0, 0.0]"
      ]
     },
     "execution_count": 14,
     "metadata": {},
     "output_type": "execute_result"
    }
   ],
   "source": [
    "env_info.rewards"
   ]
  },
  {
   "cell_type": "markdown",
   "metadata": {},
   "source": [
    "Finally, the environment returns a **done** flag for each agent."
   ]
  },
  {
   "cell_type": "code",
   "execution_count": 15,
   "metadata": {},
   "outputs": [
    {
     "data": {
      "text/plain": [
       "[False, False]"
      ]
     },
     "execution_count": 15,
     "metadata": {},
     "output_type": "execute_result"
    }
   ],
   "source": [
    "env_info.local_done"
   ]
  },
  {
   "cell_type": "markdown",
   "metadata": {},
   "source": [
    "### 3. Take Random Actions in the Environment\n",
    "\n",
    "In the next code cell, you will learn how to use the Python API to control the agents and receive feedback from the environment.\n",
    "\n",
    "Once this cell is executed, you will watch the agents' performance, if they select actions at random with each time step.  A window should pop up that allows you to observe the agents."
   ]
  },
  {
   "cell_type": "code",
   "execution_count": 43,
   "metadata": {},
   "outputs": [
    {
     "name": "stdout",
     "output_type": "stream",
     "text": [
      "Episode 1:\n",
      "Score (max over agents) after 15 steps: 0.0\n",
      "Episode 2:\n",
      "Score (max over agents) after 14 steps: 0.0\n",
      "Episode 3:\n",
      "Score (max over agents) after 14 steps: 0.0\n",
      "Episode 4:\n",
      "Score (max over agents) after 14 steps: 0.0\n",
      "Episode 5:\n",
      "Step  1 Odd  0.0 0.0\n",
      "Step  2 Even 0.0 0.0\n",
      "Step  3 Odd  0.0 0.0\n",
      "Step  4 Even 0.0 0.0\n",
      "Step  5 Odd  0.0 0.0\n",
      "Step  6 Even 0.0 0.0\n",
      "Step  7 Odd  0.0 0.0\n",
      "Step  8 Even 0.0 0.0\n",
      "Step  9 Odd  0.0 0.0\n",
      "Step 10 Even 0.0 0.0\n",
      "Step 11 Odd  0.0 0.0\n",
      "Step 12 Even 0.0 0.0\n",
      "Step 13 Odd  0.0 0.0\n",
      "Step 14 Even 0.0 -0.01\n",
      "Score (max over agents) after 14 steps: 0.0\n"
     ]
    }
   ],
   "source": [
    "for i in range(1, 6):                                      # play game for 5 episodes\n",
    "    print(\"Episode {}:\".format(i))\n",
    "    env_info = env.reset(train_mode=False)[brain_name]     # reset the environment    \n",
    "    states = env_info.vector_observations                  # get the current state (for each agent)\n",
    "    scores = np.zeros(num_agents)                          # initialize the score (for each agent)\n",
    "    steps = 0\n",
    "    while True:\n",
    "        actions = np.random.randn(num_agents, action_size) # select an action (for each agent)\n",
    "        actions = np.clip(actions, -1, 1)                  # all actions between -1 and 1\n",
    "        env_info = env.step(actions)[brain_name]           # send all actions to tne environment\n",
    "        steps += 1                                         # count steps\n",
    "        next_states = env_info.vector_observations         # get next state (for each agent)\n",
    "        rewards = env_info.rewards                         # get reward (for each agent)\n",
    "        if i == 5:\n",
    "            print(\"Step {:>2}\".format(steps), end=\" \")\n",
    "            if steps % 2 == 0:\n",
    "                print(\"Even\", rewards[0], round(rewards[1],3))\n",
    "            else:\n",
    "                print(\"Odd \", round(rewards[0],3), rewards[1])\n",
    "                \n",
    "        dones = env_info.local_done                        # see if episode finished\n",
    "        scores += env_info.rewards                         # update the score (for each agent)\n",
    "        states = next_states                               # roll over states to next time step\n",
    "        if np.any(dones):                                  # exit loop if episode finished\n",
    "            break\n",
    "    print('Score (max over agents) after {} steps: {}'.format(steps, np.max(scores)))"
   ]
  },
  {
   "cell_type": "markdown",
   "metadata": {},
   "source": [
    "### 4. Train the Agents with Proximal Policy Optimization (PPO)\n",
    "Run the code cells below to train the collaborative agents.\n",
    "\n",
    "The PPO implementation here uses the **Modularized Implementation of Deep RL Algorithms in PyTorch** ([DeepRL repo](https://github.com/ShangtongZhang/DeepRL)) which has been cloned into the **DeepRL** subdirectory here with\n",
    "```\n",
    "git clone https://github.com/ShangtongZhang/DeepRL.git\n",
    "```\n",
    "An empty `__init__.py` file added to the DeepRL subdirectory enables a full import."
   ]
  },
  {
   "cell_type": "code",
   "execution_count": 17,
   "metadata": {},
   "outputs": [],
   "source": [
    "from DeepRL.deep_rl import *"
   ]
  },
  {
   "cell_type": "markdown",
   "metadata": {},
   "source": [
    "This exposes the **BaseTask** and **PPOAgent** classes. "
   ]
  },
  {
   "cell_type": "code",
   "execution_count": 18,
   "metadata": {},
   "outputs": [
    {
     "name": "stdout",
     "output_type": "stream",
     "text": [
      "Help on class BaseTask in module DeepRL.deep_rl.component.task:\n",
      "\n",
      "class BaseTask(builtins.object)\n",
      " |  Methods defined here:\n",
      " |  \n",
      " |  __init__(self)\n",
      " |      Initialize self.  See help(type(self)) for accurate signature.\n",
      " |  \n",
      " |  reset(self)\n",
      " |  \n",
      " |  seed(self, random_seed)\n",
      " |  \n",
      " |  set_monitor(self, env, log_dir)\n",
      " |  \n",
      " |  step(self, action)\n",
      " |  \n",
      " |  ----------------------------------------------------------------------\n",
      " |  Data descriptors defined here:\n",
      " |  \n",
      " |  __dict__\n",
      " |      dictionary for instance variables (if defined)\n",
      " |  \n",
      " |  __weakref__\n",
      " |      list of weak references to the object (if defined)\n",
      "\n",
      "BaseTask None\n",
      "Help on class PPOAgent in module DeepRL.deep_rl.agent.PPO_agent:\n",
      "\n",
      "class PPOAgent(DeepRL.deep_rl.agent.BaseAgent.BaseAgent)\n",
      " |  Method resolution order:\n",
      " |      PPOAgent\n",
      " |      DeepRL.deep_rl.agent.BaseAgent.BaseAgent\n",
      " |      builtins.object\n",
      " |  \n",
      " |  Methods defined here:\n",
      " |  \n",
      " |  __init__(self, config)\n",
      " |      Initialize self.  See help(type(self)) for accurate signature.\n",
      " |  \n",
      " |  step(self)\n",
      " |  \n",
      " |  ----------------------------------------------------------------------\n",
      " |  Methods inherited from DeepRL.deep_rl.agent.BaseAgent.BaseAgent:\n",
      " |  \n",
      " |  close(self)\n",
      " |  \n",
      " |  eval_episode(self)\n",
      " |  \n",
      " |  eval_episodes(self)\n",
      " |  \n",
      " |  eval_step(self, state)\n",
      " |  \n",
      " |  load(self, filename)\n",
      " |  \n",
      " |  save(self, filename)\n",
      " |  \n",
      " |  ----------------------------------------------------------------------\n",
      " |  Data descriptors inherited from DeepRL.deep_rl.agent.BaseAgent.BaseAgent:\n",
      " |  \n",
      " |  __dict__\n",
      " |      dictionary for instance variables (if defined)\n",
      " |  \n",
      " |  __weakref__\n",
      " |      list of weak references to the object (if defined)\n",
      "\n",
      "PPOAgent None\n"
     ]
    }
   ],
   "source": [
    "_ = [print(item, eval(\"help({})\".format(item))) for item in dir() if item in ['BaseTask', 'PPOAgent']]"
   ]
  },
  {
   "cell_type": "markdown",
   "metadata": {},
   "source": [
    "The modularity of the DeepRL implementation requires specification of a **Task** and configuration of an **Agent** (based on the classes above) and a call to the training loop.\n",
    "\n",
    "First, we create **TennisTask** following examples in [task.py](https://github.com/ShangtongZhang/DeepRL/blob/master/deep_rl/component/task.py) to pass **action** into the environment at each step and return a tuple of\n",
    "```\n",
    "next_states, rewards, terminals, _\n",
    "```\n",
    "(see line 30 of [PPO_agent.py](https://github.com/ShangtongZhang/DeepRL/blob/master/deep_rl/agent/PPO_agent.py)) with `_` indicating the fourth parameter is unused. \n",
    "\n",
    "We will cumulate the step-wise returns of the agents (summed) until the episode is done, then return the total reward."
   ]
  },
  {
   "cell_type": "code",
   "execution_count": 55,
   "metadata": {},
   "outputs": [],
   "source": [
    "class TennisTask(BaseTask):\n",
    "    def __init__(self):\n",
    "        BaseTask.__init__(self)\n",
    "        self.name = 'Tennis'\n",
    "        self.env = env\n",
    "        self.action_dim = num_agents * action_size  # one action for each agent\n",
    "        self.state_dim = num_agents * state_size    # includes state of both agents\n",
    "        self.total_reward = 0.0\n",
    "\n",
    "    def step(self, action):\n",
    "        # which agent this action applies to depends on whether the step is odd or even\n",
    "        action = np.clip(action, -1, 1)\n",
    "        env_info = self.env.step(action)[brain_name]\n",
    "        next_state = env_info.vector_observations\n",
    "        # take third set of 8 values in agent's stack, reshape to 16-value vector\n",
    "        next_state = np.array([state.reshape(3, 8)[2] for state in next_state]).reshape(1, -1)\n",
    "        # reward from inactive agent is zero\n",
    "        reward = np.sum(env_info.rewards)\n",
    "        done = np.any(env_info.local_done)\n",
    "        \n",
    "        self.total_reward += reward\n",
    "        if done:\n",
    "            rewards_deque.append(self.total_reward)\n",
    "            rewards_all.append(self.total_reward)\n",
    "            next_state = self.reset()\n",
    "        return next_state, np.array([reward]), np.array([done]), None\n",
    "        \n",
    "    def reset(self):\n",
    "        self.total_reward = 0.0\n",
    "        env_info = self.env.reset(train_mode=True)[brain_name]\n",
    "        next_state = env_info.vector_observations\n",
    "        next_state = np.array([state.reshape(3, 8)[2] for state in next_state]).reshape(1, -1)\n",
    "        return next_state\n",
    "    \n",
    "    def seed(self, random_seed):\n",
    "        pass"
   ]
  },
  {
   "cell_type": "markdown",
   "metadata": {},
   "source": [
    "Next we configure the **PPOAgent** following the **ppo_continuous** configuration in [examples.py](https://github.com/ShangtongZhang/DeepRL/blob/master/examples.py) (lines 393-416)."
   ]
  },
  {
   "cell_type": "code",
   "execution_count": 56,
   "metadata": {},
   "outputs": [],
   "source": [
    "def ppo_continuous_tennis():\n",
    "    config = Config()\n",
    "    config.num_workers = 1\n",
    "    task_fn = lambda : TennisTask()\n",
    "    config.task_fn = task_fn\n",
    "    config.eval_env = task_fn()\n",
    "\n",
    "    config.network_fn = lambda: GaussianActorCriticNet(\n",
    "        config.state_dim, config.action_dim, actor_body=FCBody(config.state_dim),\n",
    "        critic_body=FCBody(config.state_dim))\n",
    "    config.optimizer_fn = lambda params: torch.optim.Adam(params, 3e-4, eps=1e-5)\n",
    "    config.discount = 0.99\n",
    "    config.use_gae = True\n",
    "    config.gae_tau = 0.95\n",
    "    config.gradient_clip = 5\n",
    "    config.rollout_length = 2048\n",
    "    config.optimization_epochs = 10\n",
    "    config.num_mini_batches = 32\n",
    "    config.ppo_ratio_clip = 0.2\n",
    "    config.log_interval = 2048\n",
    "    config.max_steps = 2e7\n",
    "    config.logger = get_logger()\n",
    "    return config"
   ]
  },
  {
   "cell_type": "markdown",
   "metadata": {},
   "source": [
    "Now we can instantiate the agent and create a model summary using [pytorch-summary](https://github.com/sksq96/pytorch-summary)."
   ]
  },
  {
   "cell_type": "code",
   "execution_count": 57,
   "metadata": {},
   "outputs": [],
   "source": [
    "from torchsummary import summary\n",
    "agent = PPOAgent(ppo_continuous_tennis())"
   ]
  },
  {
   "cell_type": "code",
   "execution_count": 58,
   "metadata": {},
   "outputs": [
    {
     "name": "stdout",
     "output_type": "stream",
     "text": [
      "Agent has 16 states and 4 actions\n",
      "----------------------------------------------------------------\n",
      "        Layer (type)               Output Shape         Param #\n",
      "================================================================\n",
      "         DummyBody-1                [-1, 1, 16]               0\n",
      "            Linear-2                [-1, 1, 64]           1,088\n",
      "            Linear-3                [-1, 1, 64]           4,160\n",
      "            FCBody-4                [-1, 1, 64]               0\n",
      "            Linear-5                [-1, 1, 64]           1,088\n",
      "            Linear-6                [-1, 1, 64]           4,160\n",
      "            FCBody-7                [-1, 1, 64]               0\n",
      "            Linear-8                 [-1, 1, 4]             260\n",
      "            Linear-9                 [-1, 1, 1]              65\n",
      "================================================================\n",
      "Total params: 10,821\n",
      "Trainable params: 10,821\n",
      "Non-trainable params: 0\n",
      "----------------------------------------------------------------\n",
      "Input size (MB): 0.00\n",
      "Forward/backward pass size (MB): 0.00\n",
      "Params size (MB): 0.04\n",
      "Estimated Total Size (MB): 0.04\n",
      "----------------------------------------------------------------\n"
     ]
    }
   ],
   "source": [
    "print(\"Agent has {} states and {} actions\".format(agent.config.state_dim, agent.config.action_dim))\n",
    "summary(agent.network, input_size=(1, num_agents*state_size))"
   ]
  },
  {
   "cell_type": "markdown",
   "metadata": {},
   "source": [
    "Finally, we customize the **run_steps** loop found in [misc.py](https://github.com/ShangtongZhang/DeepRL/blob/master/deep_rl/utils/misc.py) to halt if we reach our target: the average reward (over 100 episodes) should be at least +0.5."
   ]
  },
  {
   "cell_type": "code",
   "execution_count": 59,
   "metadata": {},
   "outputs": [],
   "source": [
    "def run_steps_tennis(agent):\n",
    "    random_seed()\n",
    "    config = agent.config\n",
    "    agent_name = agent.__class__.__name__\n",
    "    t0 = time.time()\n",
    "    while True:\n",
    "        if config.save_interval and not agent.total_steps % config.save_interval:\n",
    "            agent.save('data/model-%s-%s-%s.bin' % (agent_name, config.task_name, config.tag))\n",
    "        if config.log_interval and not agent.total_steps % config.log_interval and len(agent.episode_rewards):\n",
    "            rewards = agent.episode_rewards\n",
    "            agent.episode_rewards = []\n",
    "            config.logger.info('total steps %d, returns %.2f/%.2f/%.2f/%.2f (mean/median/min/max), %.2f steps/s' % (\n",
    "                agent.total_steps, np.mean(rewards), np.median(rewards), np.min(rewards), np.max(rewards),\n",
    "                config.log_interval / (time.time() - t0)))\n",
    "            t0 = time.time()\n",
    "            \n",
    "        # Stop if goal met\n",
    "        if (len(rewards_deque) >= 100) and (np.mean(rewards_deque) >= 0.5):\n",
    "            agent.save('final.wts')\n",
    "            agent.close()\n",
    "            break\n",
    "\n",
    "        # Stop if beyond max_steps\n",
    "        if config.max_steps and agent.total_steps >= config.max_steps:\n",
    "            agent.close()\n",
    "            break\n",
    "        agent.step()"
   ]
  },
  {
   "cell_type": "code",
   "execution_count": 60,
   "metadata": {
    "scrolled": true
   },
   "outputs": [
    {
     "name": "stderr",
     "output_type": "stream",
     "text": [
      "INFO:MAIN:total steps 2048, returns 0.01/-0.01/-0.01/0.19 (mean/median/min/max), 285.47 steps/s\n",
      "INFO:MAIN:total steps 4096, returns 0.00/-0.01/-0.01/0.09 (mean/median/min/max), 307.00 steps/s\n",
      "INFO:MAIN:total steps 6144, returns 0.02/-0.01/-0.01/0.29 (mean/median/min/max), 306.69 steps/s\n",
      "INFO:MAIN:total steps 8192, returns 0.01/-0.01/-0.01/0.29 (mean/median/min/max), 298.38 steps/s\n",
      "INFO:MAIN:total steps 10240, returns 0.01/-0.01/-0.01/0.19 (mean/median/min/max), 308.15 steps/s\n",
      "INFO:MAIN:total steps 12288, returns 0.01/-0.01/-0.01/0.19 (mean/median/min/max), 309.19 steps/s\n",
      "INFO:MAIN:total steps 14336, returns 0.01/-0.01/-0.01/0.29 (mean/median/min/max), 307.01 steps/s\n",
      "INFO:MAIN:total steps 16384, returns 0.01/-0.01/-0.01/0.19 (mean/median/min/max), 290.97 steps/s\n",
      "INFO:MAIN:total steps 18432, returns 0.02/-0.01/-0.01/0.19 (mean/median/min/max), 291.42 steps/s\n",
      "INFO:MAIN:total steps 20480, returns 0.02/-0.01/-0.01/0.29 (mean/median/min/max), 306.11 steps/s\n",
      "INFO:MAIN:total steps 22528, returns 0.02/-0.01/-0.01/0.29 (mean/median/min/max), 304.26 steps/s\n",
      "INFO:MAIN:total steps 24576, returns 0.01/-0.01/-0.01/0.29 (mean/median/min/max), 295.56 steps/s\n",
      "INFO:MAIN:total steps 26624, returns 0.02/-0.01/-0.01/0.29 (mean/median/min/max), 306.29 steps/s\n",
      "INFO:MAIN:total steps 28672, returns 0.01/-0.01/-0.01/0.29 (mean/median/min/max), 305.50 steps/s\n",
      "INFO:MAIN:total steps 30720, returns 0.02/-0.01/-0.01/0.29 (mean/median/min/max), 304.48 steps/s\n",
      "INFO:MAIN:total steps 32768, returns 0.02/-0.01/-0.01/0.29 (mean/median/min/max), 303.78 steps/s\n",
      "INFO:MAIN:total steps 34816, returns 0.01/-0.01/-0.01/0.19 (mean/median/min/max), 274.20 steps/s\n",
      "INFO:MAIN:total steps 36864, returns 0.02/-0.01/-0.01/0.29 (mean/median/min/max), 301.22 steps/s\n",
      "INFO:MAIN:total steps 38912, returns 0.03/-0.01/-0.01/0.29 (mean/median/min/max), 299.08 steps/s\n",
      "INFO:MAIN:total steps 40960, returns 0.02/-0.01/-0.01/0.29 (mean/median/min/max), 300.90 steps/s\n",
      "INFO:MAIN:total steps 43008, returns 0.02/-0.01/-0.01/0.29 (mean/median/min/max), 293.26 steps/s\n",
      "INFO:MAIN:total steps 45056, returns 0.01/-0.01/-0.01/0.39 (mean/median/min/max), 306.50 steps/s\n",
      "INFO:MAIN:total steps 47104, returns 0.02/-0.01/-0.01/0.29 (mean/median/min/max), 310.01 steps/s\n",
      "INFO:MAIN:total steps 49152, returns 0.02/-0.01/-0.01/0.29 (mean/median/min/max), 303.55 steps/s\n",
      "INFO:MAIN:total steps 51200, returns 0.01/-0.01/-0.01/0.29 (mean/median/min/max), 302.49 steps/s\n",
      "INFO:MAIN:total steps 53248, returns 0.01/-0.01/-0.01/0.19 (mean/median/min/max), 306.09 steps/s\n",
      "INFO:MAIN:total steps 55296, returns 0.01/-0.01/-0.01/0.19 (mean/median/min/max), 303.31 steps/s\n",
      "INFO:MAIN:total steps 57344, returns 0.02/-0.01/-0.01/0.19 (mean/median/min/max), 302.91 steps/s\n",
      "INFO:MAIN:total steps 59392, returns 0.01/-0.01/-0.01/0.29 (mean/median/min/max), 303.46 steps/s\n",
      "INFO:MAIN:total steps 61440, returns 0.02/-0.01/-0.01/0.19 (mean/median/min/max), 283.93 steps/s\n",
      "INFO:MAIN:total steps 63488, returns 0.02/-0.01/-0.01/0.29 (mean/median/min/max), 226.68 steps/s\n",
      "INFO:MAIN:total steps 65536, returns 0.02/-0.01/-0.01/0.19 (mean/median/min/max), 224.95 steps/s\n",
      "INFO:MAIN:total steps 67584, returns 0.02/-0.01/-0.01/0.29 (mean/median/min/max), 229.93 steps/s\n",
      "INFO:MAIN:total steps 69632, returns 0.03/-0.01/-0.01/0.29 (mean/median/min/max), 263.49 steps/s\n",
      "INFO:MAIN:total steps 71680, returns 0.02/-0.01/-0.01/0.09 (mean/median/min/max), 309.61 steps/s\n",
      "INFO:MAIN:total steps 73728, returns 0.03/-0.01/-0.01/0.29 (mean/median/min/max), 260.93 steps/s\n",
      "INFO:MAIN:total steps 75776, returns 0.02/-0.01/-0.01/0.29 (mean/median/min/max), 230.55 steps/s\n",
      "INFO:MAIN:total steps 77824, returns 0.02/-0.01/-0.01/0.19 (mean/median/min/max), 306.53 steps/s\n",
      "INFO:MAIN:total steps 79872, returns 0.02/-0.01/-0.01/0.29 (mean/median/min/max), 261.29 steps/s\n",
      "INFO:MAIN:total steps 81920, returns 0.03/-0.01/-0.01/0.29 (mean/median/min/max), 250.95 steps/s\n",
      "INFO:MAIN:total steps 83968, returns 0.02/-0.01/-0.01/0.19 (mean/median/min/max), 244.27 steps/s\n",
      "INFO:MAIN:total steps 86016, returns 0.02/-0.01/-0.01/0.29 (mean/median/min/max), 242.87 steps/s\n",
      "INFO:MAIN:total steps 88064, returns 0.02/-0.01/-0.01/0.19 (mean/median/min/max), 246.76 steps/s\n",
      "INFO:MAIN:total steps 90112, returns 0.02/-0.01/-0.01/0.19 (mean/median/min/max), 225.85 steps/s\n",
      "INFO:MAIN:total steps 92160, returns 0.02/-0.01/-0.01/0.19 (mean/median/min/max), 243.67 steps/s\n",
      "INFO:MAIN:total steps 94208, returns 0.03/-0.01/-0.02/0.29 (mean/median/min/max), 229.01 steps/s\n",
      "INFO:MAIN:total steps 96256, returns 0.03/-0.01/-0.01/0.29 (mean/median/min/max), 230.54 steps/s\n",
      "INFO:MAIN:total steps 98304, returns 0.03/-0.01/-0.02/0.29 (mean/median/min/max), 257.35 steps/s\n",
      "INFO:MAIN:total steps 100352, returns 0.02/-0.01/-0.01/0.19 (mean/median/min/max), 300.62 steps/s\n",
      "INFO:MAIN:total steps 102400, returns 0.03/-0.01/-0.01/0.39 (mean/median/min/max), 307.18 steps/s\n",
      "INFO:MAIN:total steps 104448, returns 0.02/-0.01/-0.01/0.19 (mean/median/min/max), 311.04 steps/s\n",
      "INFO:MAIN:total steps 106496, returns 0.03/-0.01/-0.01/0.39 (mean/median/min/max), 277.16 steps/s\n",
      "INFO:MAIN:total steps 108544, returns 0.03/-0.01/-0.01/0.29 (mean/median/min/max), 303.27 steps/s\n",
      "INFO:MAIN:total steps 110592, returns 0.03/-0.01/-0.01/0.29 (mean/median/min/max), 252.54 steps/s\n",
      "INFO:MAIN:total steps 112640, returns 0.03/-0.01/-0.01/0.19 (mean/median/min/max), 240.78 steps/s\n",
      "INFO:MAIN:total steps 114688, returns 0.03/-0.01/-0.01/0.19 (mean/median/min/max), 217.28 steps/s\n",
      "INFO:MAIN:total steps 116736, returns 0.03/-0.01/-0.01/0.19 (mean/median/min/max), 238.57 steps/s\n",
      "INFO:MAIN:total steps 118784, returns 0.03/-0.01/-0.01/0.39 (mean/median/min/max), 254.55 steps/s\n",
      "INFO:MAIN:total steps 120832, returns 0.03/-0.01/-0.01/0.29 (mean/median/min/max), 306.26 steps/s\n",
      "INFO:MAIN:total steps 122880, returns 0.03/-0.01/-0.01/0.29 (mean/median/min/max), 305.25 steps/s\n",
      "INFO:MAIN:total steps 124928, returns 0.03/-0.01/-0.01/0.19 (mean/median/min/max), 310.72 steps/s\n",
      "INFO:MAIN:total steps 126976, returns 0.03/-0.01/-0.01/0.29 (mean/median/min/max), 292.65 steps/s\n",
      "INFO:MAIN:total steps 129024, returns 0.03/-0.01/-0.01/0.19 (mean/median/min/max), 310.81 steps/s\n",
      "INFO:MAIN:total steps 131072, returns 0.04/-0.01/-0.01/0.19 (mean/median/min/max), 306.32 steps/s\n",
      "INFO:MAIN:total steps 133120, returns 0.04/-0.01/-0.01/0.29 (mean/median/min/max), 310.70 steps/s\n",
      "INFO:MAIN:total steps 135168, returns 0.04/-0.01/-0.01/0.29 (mean/median/min/max), 265.50 steps/s\n",
      "INFO:MAIN:total steps 137216, returns 0.04/-0.01/-0.01/0.29 (mean/median/min/max), 213.21 steps/s\n",
      "INFO:MAIN:total steps 139264, returns 0.04/-0.01/-0.01/0.19 (mean/median/min/max), 273.60 steps/s\n",
      "INFO:MAIN:total steps 141312, returns 0.04/-0.01/-0.02/0.19 (mean/median/min/max), 285.77 steps/s\n",
      "INFO:MAIN:total steps 143360, returns 0.04/-0.01/-0.01/0.19 (mean/median/min/max), 309.72 steps/s\n",
      "INFO:MAIN:total steps 145408, returns 0.04/-0.01/-0.01/0.29 (mean/median/min/max), 309.92 steps/s\n",
      "INFO:MAIN:total steps 147456, returns 0.04/-0.01/-0.01/0.19 (mean/median/min/max), 308.58 steps/s\n",
      "INFO:MAIN:total steps 149504, returns 0.04/-0.01/-0.01/0.29 (mean/median/min/max), 307.52 steps/s\n",
      "INFO:MAIN:total steps 151552, returns 0.03/-0.01/-0.01/0.19 (mean/median/min/max), 306.90 steps/s\n",
      "INFO:MAIN:total steps 153600, returns 0.05/0.09/-0.01/0.29 (mean/median/min/max), 311.49 steps/s\n",
      "INFO:MAIN:total steps 155648, returns 0.04/-0.01/-0.01/0.29 (mean/median/min/max), 309.79 steps/s\n",
      "INFO:MAIN:total steps 157696, returns 0.05/-0.01/-0.01/0.29 (mean/median/min/max), 304.46 steps/s\n",
      "INFO:MAIN:total steps 159744, returns 0.05/0.09/-0.01/0.29 (mean/median/min/max), 310.09 steps/s\n",
      "INFO:MAIN:total steps 161792, returns 0.05/0.09/-0.01/0.19 (mean/median/min/max), 304.99 steps/s\n",
      "INFO:MAIN:total steps 163840, returns 0.06/0.09/-0.01/0.29 (mean/median/min/max), 311.77 steps/s\n",
      "INFO:MAIN:total steps 165888, returns 0.06/0.09/-0.01/0.29 (mean/median/min/max), 306.32 steps/s\n",
      "INFO:MAIN:total steps 167936, returns 0.05/0.09/-0.01/0.29 (mean/median/min/max), 310.04 steps/s\n",
      "INFO:MAIN:total steps 169984, returns 0.05/0.09/-0.01/0.29 (mean/median/min/max), 308.22 steps/s\n",
      "INFO:MAIN:total steps 172032, returns 0.06/0.09/-0.01/0.19 (mean/median/min/max), 307.92 steps/s\n",
      "INFO:MAIN:total steps 174080, returns 0.06/0.09/-0.01/0.38 (mean/median/min/max), 310.43 steps/s\n"
     ]
    },
    {
     "name": "stderr",
     "output_type": "stream",
     "text": [
      "INFO:MAIN:total steps 176128, returns 0.05/0.09/-0.01/0.29 (mean/median/min/max), 310.69 steps/s\n",
      "INFO:MAIN:total steps 178176, returns 0.05/0.09/-0.01/0.19 (mean/median/min/max), 309.01 steps/s\n",
      "INFO:MAIN:total steps 180224, returns 0.06/0.09/-0.01/0.39 (mean/median/min/max), 308.37 steps/s\n",
      "INFO:MAIN:total steps 182272, returns 0.05/0.09/-0.01/0.29 (mean/median/min/max), 307.85 steps/s\n",
      "INFO:MAIN:total steps 184320, returns 0.04/-0.01/-0.01/0.19 (mean/median/min/max), 305.69 steps/s\n",
      "INFO:MAIN:total steps 186368, returns 0.05/0.09/-0.01/0.19 (mean/median/min/max), 312.37 steps/s\n",
      "INFO:MAIN:total steps 188416, returns 0.07/0.09/-0.01/0.49 (mean/median/min/max), 306.92 steps/s\n",
      "INFO:MAIN:total steps 190464, returns 0.06/0.09/-0.01/0.19 (mean/median/min/max), 310.68 steps/s\n",
      "INFO:MAIN:total steps 192512, returns 0.06/0.09/-0.01/0.29 (mean/median/min/max), 308.75 steps/s\n",
      "INFO:MAIN:total steps 194560, returns 0.05/0.09/-0.01/0.19 (mean/median/min/max), 303.92 steps/s\n",
      "INFO:MAIN:total steps 196608, returns 0.05/0.09/-0.01/0.29 (mean/median/min/max), 309.91 steps/s\n",
      "INFO:MAIN:total steps 198656, returns 0.08/0.09/-0.01/0.29 (mean/median/min/max), 305.71 steps/s\n",
      "INFO:MAIN:total steps 200704, returns 0.07/0.09/-0.01/0.39 (mean/median/min/max), 309.66 steps/s\n",
      "INFO:MAIN:total steps 202752, returns 0.06/0.09/-0.01/0.39 (mean/median/min/max), 304.74 steps/s\n",
      "INFO:MAIN:total steps 204800, returns 0.05/0.09/-0.01/0.19 (mean/median/min/max), 287.79 steps/s\n",
      "INFO:MAIN:total steps 206848, returns 0.06/0.09/-0.01/0.39 (mean/median/min/max), 289.54 steps/s\n",
      "INFO:MAIN:total steps 208896, returns 0.06/0.09/-0.01/0.29 (mean/median/min/max), 309.20 steps/s\n",
      "INFO:MAIN:total steps 210944, returns 0.07/0.09/-0.01/0.29 (mean/median/min/max), 311.08 steps/s\n",
      "INFO:MAIN:total steps 212992, returns 0.07/0.09/-0.01/0.29 (mean/median/min/max), 304.81 steps/s\n",
      "INFO:MAIN:total steps 215040, returns 0.06/0.09/-0.01/0.39 (mean/median/min/max), 310.42 steps/s\n",
      "INFO:MAIN:total steps 217088, returns 0.08/0.09/-0.01/0.39 (mean/median/min/max), 309.63 steps/s\n",
      "INFO:MAIN:total steps 219136, returns 0.06/0.09/-0.01/0.29 (mean/median/min/max), 311.12 steps/s\n",
      "INFO:MAIN:total steps 221184, returns 0.05/0.09/-0.01/0.29 (mean/median/min/max), 309.36 steps/s\n",
      "INFO:MAIN:total steps 223232, returns 0.07/0.09/-0.01/0.39 (mean/median/min/max), 305.65 steps/s\n",
      "INFO:MAIN:total steps 225280, returns 0.05/0.09/-0.01/0.29 (mean/median/min/max), 310.75 steps/s\n",
      "INFO:MAIN:total steps 227328, returns 0.06/0.09/-0.01/0.29 (mean/median/min/max), 312.43 steps/s\n",
      "INFO:MAIN:total steps 229376, returns 0.08/0.09/-0.01/0.39 (mean/median/min/max), 311.78 steps/s\n",
      "INFO:MAIN:total steps 231424, returns 0.07/0.09/-0.01/0.39 (mean/median/min/max), 308.33 steps/s\n",
      "INFO:MAIN:total steps 233472, returns 0.07/0.09/-0.01/0.29 (mean/median/min/max), 309.36 steps/s\n",
      "INFO:MAIN:total steps 235520, returns 0.07/0.09/-0.01/0.29 (mean/median/min/max), 307.59 steps/s\n",
      "INFO:MAIN:total steps 237568, returns 0.06/0.09/-0.01/0.39 (mean/median/min/max), 311.10 steps/s\n",
      "INFO:MAIN:total steps 239616, returns 0.06/0.09/-0.01/0.29 (mean/median/min/max), 309.17 steps/s\n",
      "INFO:MAIN:total steps 241664, returns 0.05/0.09/-0.01/0.19 (mean/median/min/max), 307.49 steps/s\n",
      "INFO:MAIN:total steps 243712, returns 0.06/0.09/-0.01/0.39 (mean/median/min/max), 304.76 steps/s\n",
      "INFO:MAIN:total steps 245760, returns 0.07/0.09/-0.01/0.39 (mean/median/min/max), 313.12 steps/s\n",
      "INFO:MAIN:total steps 247808, returns 0.06/0.09/-0.01/0.19 (mean/median/min/max), 307.93 steps/s\n",
      "INFO:MAIN:total steps 249856, returns 0.08/0.09/-0.01/0.29 (mean/median/min/max), 312.68 steps/s\n",
      "INFO:MAIN:total steps 251904, returns 0.06/0.09/-0.01/0.29 (mean/median/min/max), 309.78 steps/s\n",
      "INFO:MAIN:total steps 253952, returns 0.06/0.09/-0.01/0.29 (mean/median/min/max), 305.08 steps/s\n",
      "INFO:MAIN:total steps 256000, returns 0.08/0.09/-0.01/0.39 (mean/median/min/max), 313.38 steps/s\n",
      "INFO:MAIN:total steps 258048, returns 0.07/0.09/-0.01/0.39 (mean/median/min/max), 310.95 steps/s\n",
      "INFO:MAIN:total steps 260096, returns 0.07/0.09/-0.01/0.39 (mean/median/min/max), 309.10 steps/s\n",
      "INFO:MAIN:total steps 262144, returns 0.06/0.09/-0.01/0.29 (mean/median/min/max), 309.53 steps/s\n",
      "INFO:MAIN:total steps 264192, returns 0.08/0.09/-0.01/0.29 (mean/median/min/max), 307.09 steps/s\n",
      "INFO:MAIN:total steps 266240, returns 0.08/0.09/-0.01/0.39 (mean/median/min/max), 310.97 steps/s\n",
      "INFO:MAIN:total steps 268288, returns 0.08/0.09/-0.01/0.29 (mean/median/min/max), 308.40 steps/s\n",
      "INFO:MAIN:total steps 270336, returns 0.07/0.09/-0.01/0.39 (mean/median/min/max), 309.90 steps/s\n",
      "INFO:MAIN:total steps 272384, returns 0.08/0.09/-0.01/0.29 (mean/median/min/max), 309.69 steps/s\n",
      "INFO:MAIN:total steps 274432, returns 0.07/0.09/-0.01/0.29 (mean/median/min/max), 310.78 steps/s\n",
      "INFO:MAIN:total steps 276480, returns 0.06/0.09/-0.01/0.29 (mean/median/min/max), 308.92 steps/s\n",
      "INFO:MAIN:total steps 278528, returns 0.08/0.09/-0.01/0.29 (mean/median/min/max), 313.09 steps/s\n",
      "INFO:MAIN:total steps 280576, returns 0.07/0.09/-0.01/0.19 (mean/median/min/max), 307.98 steps/s\n",
      "INFO:MAIN:total steps 282624, returns 0.07/0.09/-0.01/0.29 (mean/median/min/max), 310.97 steps/s\n",
      "INFO:MAIN:total steps 284672, returns 0.07/0.09/-0.01/0.29 (mean/median/min/max), 309.40 steps/s\n",
      "INFO:MAIN:total steps 286720, returns 0.07/0.09/-0.01/0.29 (mean/median/min/max), 307.74 steps/s\n",
      "INFO:MAIN:total steps 288768, returns 0.06/0.09/-0.01/0.29 (mean/median/min/max), 312.13 steps/s\n",
      "INFO:MAIN:total steps 290816, returns 0.07/0.09/-0.01/0.29 (mean/median/min/max), 312.50 steps/s\n",
      "INFO:MAIN:total steps 292864, returns 0.09/0.09/-0.01/0.49 (mean/median/min/max), 310.52 steps/s\n",
      "INFO:MAIN:total steps 294912, returns 0.09/0.09/-0.01/0.49 (mean/median/min/max), 306.65 steps/s\n",
      "INFO:MAIN:total steps 296960, returns 0.08/0.09/-0.01/0.49 (mean/median/min/max), 306.51 steps/s\n",
      "INFO:MAIN:total steps 299008, returns 0.08/0.09/-0.01/0.59 (mean/median/min/max), 308.84 steps/s\n",
      "INFO:MAIN:total steps 301056, returns 0.08/0.09/-0.01/0.39 (mean/median/min/max), 309.25 steps/s\n",
      "INFO:MAIN:total steps 303104, returns 0.08/0.09/-0.01/0.39 (mean/median/min/max), 313.51 steps/s\n",
      "INFO:MAIN:total steps 305152, returns 0.09/0.09/-0.01/0.39 (mean/median/min/max), 301.05 steps/s\n",
      "INFO:MAIN:total steps 307200, returns 0.06/0.09/-0.01/0.29 (mean/median/min/max), 312.97 steps/s\n",
      "INFO:MAIN:total steps 309248, returns 0.09/0.09/-0.01/0.89 (mean/median/min/max), 308.27 steps/s\n",
      "INFO:MAIN:total steps 311296, returns 0.08/0.09/-0.01/0.19 (mean/median/min/max), 311.17 steps/s\n",
      "INFO:MAIN:total steps 313344, returns 0.07/0.09/-0.01/0.29 (mean/median/min/max), 311.84 steps/s\n",
      "INFO:MAIN:total steps 315392, returns 0.09/0.09/-0.01/0.39 (mean/median/min/max), 308.08 steps/s\n",
      "INFO:MAIN:total steps 317440, returns 0.07/0.09/-0.01/0.39 (mean/median/min/max), 309.20 steps/s\n",
      "INFO:MAIN:total steps 319488, returns 0.07/0.09/-0.01/0.39 (mean/median/min/max), 313.21 steps/s\n",
      "INFO:MAIN:total steps 321536, returns 0.08/0.09/-0.01/0.29 (mean/median/min/max), 309.83 steps/s\n",
      "INFO:MAIN:total steps 323584, returns 0.07/0.09/-0.01/0.29 (mean/median/min/max), 309.51 steps/s\n",
      "INFO:MAIN:total steps 325632, returns 0.07/0.09/-0.01/0.49 (mean/median/min/max), 310.89 steps/s\n",
      "INFO:MAIN:total steps 327680, returns 0.07/0.09/-0.01/0.39 (mean/median/min/max), 310.80 steps/s\n",
      "INFO:MAIN:total steps 329728, returns 0.06/0.09/-0.01/0.29 (mean/median/min/max), 313.40 steps/s\n",
      "INFO:MAIN:total steps 331776, returns 0.09/0.09/-0.01/0.49 (mean/median/min/max), 312.03 steps/s\n",
      "INFO:MAIN:total steps 333824, returns 0.07/0.09/-0.01/0.39 (mean/median/min/max), 310.28 steps/s\n",
      "INFO:MAIN:total steps 335872, returns 0.09/0.09/-0.01/0.39 (mean/median/min/max), 308.33 steps/s\n",
      "INFO:MAIN:total steps 337920, returns 0.09/0.09/-0.01/0.49 (mean/median/min/max), 309.74 steps/s\n",
      "INFO:MAIN:total steps 339968, returns 0.10/0.09/-0.01/0.49 (mean/median/min/max), 314.12 steps/s\n",
      "INFO:MAIN:total steps 342016, returns 0.09/0.09/-0.01/0.49 (mean/median/min/max), 302.78 steps/s\n",
      "INFO:MAIN:total steps 344064, returns 0.09/0.09/-0.01/0.49 (mean/median/min/max), 310.91 steps/s\n",
      "INFO:MAIN:total steps 346112, returns 0.09/0.09/-0.01/0.49 (mean/median/min/max), 307.01 steps/s\n",
      "INFO:MAIN:total steps 348160, returns 0.08/0.09/-0.01/0.39 (mean/median/min/max), 313.11 steps/s\n"
     ]
    },
    {
     "name": "stderr",
     "output_type": "stream",
     "text": [
      "INFO:MAIN:total steps 350208, returns 0.08/0.09/-0.01/0.79 (mean/median/min/max), 311.33 steps/s\n",
      "INFO:MAIN:total steps 352256, returns 0.09/0.09/-0.01/0.49 (mean/median/min/max), 312.70 steps/s\n",
      "INFO:MAIN:total steps 354304, returns 0.10/0.09/-0.01/0.59 (mean/median/min/max), 310.94 steps/s\n",
      "INFO:MAIN:total steps 356352, returns 0.08/0.09/-0.01/0.49 (mean/median/min/max), 306.60 steps/s\n",
      "INFO:MAIN:total steps 358400, returns 0.08/0.09/-0.02/0.49 (mean/median/min/max), 313.33 steps/s\n",
      "INFO:MAIN:total steps 360448, returns 0.09/0.09/-0.01/0.39 (mean/median/min/max), 309.66 steps/s\n",
      "INFO:MAIN:total steps 362496, returns 0.06/0.09/-0.01/0.59 (mean/median/min/max), 310.92 steps/s\n",
      "INFO:MAIN:total steps 364544, returns 0.08/0.09/-0.01/0.39 (mean/median/min/max), 311.37 steps/s\n",
      "INFO:MAIN:total steps 366592, returns 0.10/0.09/-0.01/0.49 (mean/median/min/max), 304.95 steps/s\n",
      "INFO:MAIN:total steps 368640, returns 0.11/0.09/-0.01/0.49 (mean/median/min/max), 309.70 steps/s\n",
      "INFO:MAIN:total steps 370688, returns 0.10/0.09/-0.01/0.89 (mean/median/min/max), 313.02 steps/s\n",
      "INFO:MAIN:total steps 372736, returns 0.10/0.09/-0.01/0.59 (mean/median/min/max), 311.60 steps/s\n",
      "INFO:MAIN:total steps 374784, returns 0.11/0.09/-0.01/0.59 (mean/median/min/max), 309.63 steps/s\n",
      "INFO:MAIN:total steps 376832, returns 0.12/0.09/-0.01/0.79 (mean/median/min/max), 309.22 steps/s\n",
      "INFO:MAIN:total steps 378880, returns 0.10/0.09/-0.01/0.49 (mean/median/min/max), 305.72 steps/s\n",
      "INFO:MAIN:total steps 380928, returns 0.08/0.09/-0.01/0.69 (mean/median/min/max), 308.71 steps/s\n",
      "INFO:MAIN:total steps 382976, returns 0.11/0.09/-0.01/0.79 (mean/median/min/max), 308.55 steps/s\n",
      "INFO:MAIN:total steps 385024, returns 0.11/0.09/-0.01/0.58 (mean/median/min/max), 307.92 steps/s\n",
      "INFO:MAIN:total steps 387072, returns 0.09/0.09/-0.01/0.69 (mean/median/min/max), 308.03 steps/s\n",
      "INFO:MAIN:total steps 389120, returns 0.12/0.09/-0.01/0.89 (mean/median/min/max), 299.26 steps/s\n",
      "INFO:MAIN:total steps 391168, returns 0.09/0.09/-0.01/0.39 (mean/median/min/max), 306.15 steps/s\n",
      "INFO:MAIN:total steps 393216, returns 0.07/0.09/-0.01/0.39 (mean/median/min/max), 309.41 steps/s\n",
      "INFO:MAIN:total steps 395264, returns 0.08/0.09/-0.01/0.39 (mean/median/min/max), 309.10 steps/s\n",
      "INFO:MAIN:total steps 397312, returns 0.09/0.09/-0.01/0.29 (mean/median/min/max), 307.00 steps/s\n",
      "INFO:MAIN:total steps 399360, returns 0.09/0.09/-0.01/0.59 (mean/median/min/max), 313.51 steps/s\n",
      "INFO:MAIN:total steps 401408, returns 0.13/0.09/-0.01/0.39 (mean/median/min/max), 312.00 steps/s\n",
      "INFO:MAIN:total steps 403456, returns 0.11/0.09/-0.01/0.59 (mean/median/min/max), 309.54 steps/s\n",
      "INFO:MAIN:total steps 405504, returns 0.11/0.09/-0.01/0.79 (mean/median/min/max), 314.42 steps/s\n",
      "INFO:MAIN:total steps 407552, returns 0.12/0.09/-0.01/1.39 (mean/median/min/max), 308.31 steps/s\n",
      "INFO:MAIN:total steps 409600, returns 0.10/0.09/-0.01/0.69 (mean/median/min/max), 308.72 steps/s\n",
      "INFO:MAIN:total steps 411648, returns 0.14/0.09/-0.01/0.59 (mean/median/min/max), 311.98 steps/s\n",
      "INFO:MAIN:total steps 413696, returns 0.12/0.09/-0.01/0.59 (mean/median/min/max), 312.58 steps/s\n",
      "INFO:MAIN:total steps 415744, returns 0.13/0.09/-0.01/0.99 (mean/median/min/max), 308.89 steps/s\n",
      "INFO:MAIN:total steps 417792, returns 0.09/0.09/-0.01/0.39 (mean/median/min/max), 302.13 steps/s\n",
      "INFO:MAIN:total steps 419840, returns 0.11/0.09/-0.01/0.69 (mean/median/min/max), 309.29 steps/s\n",
      "INFO:MAIN:total steps 421888, returns 0.09/0.09/-0.01/0.49 (mean/median/min/max), 311.44 steps/s\n",
      "INFO:MAIN:total steps 423936, returns 0.11/0.09/-0.01/0.69 (mean/median/min/max), 312.59 steps/s\n",
      "INFO:MAIN:total steps 425984, returns 0.10/0.09/-0.01/0.49 (mean/median/min/max), 309.11 steps/s\n",
      "INFO:MAIN:total steps 428032, returns 0.10/0.09/-0.01/0.59 (mean/median/min/max), 309.66 steps/s\n",
      "INFO:MAIN:total steps 430080, returns 0.15/0.09/-0.01/1.29 (mean/median/min/max), 313.66 steps/s\n",
      "INFO:MAIN:total steps 432128, returns 0.09/0.09/-0.01/0.39 (mean/median/min/max), 309.09 steps/s\n",
      "INFO:MAIN:total steps 434176, returns 0.10/0.09/-0.01/0.59 (mean/median/min/max), 313.00 steps/s\n",
      "INFO:MAIN:total steps 436224, returns 0.11/0.09/-0.01/0.49 (mean/median/min/max), 310.75 steps/s\n",
      "INFO:MAIN:total steps 438272, returns 0.09/0.09/-0.01/0.49 (mean/median/min/max), 304.69 steps/s\n",
      "INFO:MAIN:total steps 440320, returns 0.13/0.09/-0.01/0.99 (mean/median/min/max), 312.70 steps/s\n",
      "INFO:MAIN:total steps 442368, returns 0.11/0.09/-0.01/0.29 (mean/median/min/max), 313.64 steps/s\n",
      "INFO:MAIN:total steps 444416, returns 0.11/0.09/-0.01/0.49 (mean/median/min/max), 310.61 steps/s\n",
      "INFO:MAIN:total steps 446464, returns 0.09/0.09/-0.01/0.49 (mean/median/min/max), 311.45 steps/s\n",
      "INFO:MAIN:total steps 448512, returns 0.10/0.09/-0.01/0.49 (mean/median/min/max), 306.34 steps/s\n",
      "INFO:MAIN:total steps 450560, returns 0.12/0.09/-0.01/0.49 (mean/median/min/max), 312.34 steps/s\n",
      "INFO:MAIN:total steps 452608, returns 0.10/0.09/-0.01/0.39 (mean/median/min/max), 310.86 steps/s\n",
      "INFO:MAIN:total steps 454656, returns 0.09/0.09/-0.01/0.39 (mean/median/min/max), 304.76 steps/s\n",
      "INFO:MAIN:total steps 456704, returns 0.11/0.09/-0.01/0.59 (mean/median/min/max), 311.37 steps/s\n",
      "INFO:MAIN:total steps 458752, returns 0.18/0.09/-0.01/1.09 (mean/median/min/max), 307.30 steps/s\n",
      "INFO:MAIN:total steps 460800, returns 0.12/0.09/-0.01/0.59 (mean/median/min/max), 311.40 steps/s\n",
      "INFO:MAIN:total steps 462848, returns 0.15/0.09/-0.01/0.99 (mean/median/min/max), 311.53 steps/s\n",
      "INFO:MAIN:total steps 464896, returns 0.13/0.09/-0.01/0.89 (mean/median/min/max), 309.46 steps/s\n",
      "INFO:MAIN:total steps 466944, returns 0.12/0.09/-0.01/0.99 (mean/median/min/max), 312.18 steps/s\n",
      "INFO:MAIN:total steps 468992, returns 0.13/0.09/-0.01/0.49 (mean/median/min/max), 309.32 steps/s\n",
      "INFO:MAIN:total steps 471040, returns 0.15/0.09/-0.01/1.09 (mean/median/min/max), 310.95 steps/s\n",
      "INFO:MAIN:total steps 473088, returns 0.14/0.09/-0.01/0.69 (mean/median/min/max), 313.51 steps/s\n",
      "INFO:MAIN:total steps 475136, returns 0.11/0.09/-0.01/0.69 (mean/median/min/max), 313.24 steps/s\n",
      "INFO:MAIN:total steps 477184, returns 0.15/0.09/-0.01/0.89 (mean/median/min/max), 309.03 steps/s\n",
      "INFO:MAIN:total steps 479232, returns 0.10/0.09/-0.01/0.49 (mean/median/min/max), 309.98 steps/s\n",
      "INFO:MAIN:total steps 481280, returns 0.13/0.09/-0.01/0.89 (mean/median/min/max), 307.75 steps/s\n",
      "INFO:MAIN:total steps 483328, returns 0.11/0.09/-0.01/0.59 (mean/median/min/max), 298.08 steps/s\n",
      "INFO:MAIN:total steps 485376, returns 0.10/0.09/-0.01/0.59 (mean/median/min/max), 280.24 steps/s\n",
      "INFO:MAIN:total steps 487424, returns 0.14/0.09/-0.01/0.59 (mean/median/min/max), 288.13 steps/s\n",
      "INFO:MAIN:total steps 489472, returns 0.10/0.09/-0.01/0.59 (mean/median/min/max), 306.86 steps/s\n",
      "INFO:MAIN:total steps 491520, returns 0.12/0.09/-0.01/0.49 (mean/median/min/max), 310.18 steps/s\n",
      "INFO:MAIN:total steps 493568, returns 0.14/0.09/-0.01/0.59 (mean/median/min/max), 309.58 steps/s\n",
      "INFO:MAIN:total steps 495616, returns 0.12/0.09/-0.01/0.49 (mean/median/min/max), 311.09 steps/s\n",
      "INFO:MAIN:total steps 497664, returns 0.14/0.09/-0.01/0.49 (mean/median/min/max), 313.93 steps/s\n",
      "INFO:MAIN:total steps 499712, returns 0.13/0.09/-0.01/1.19 (mean/median/min/max), 305.72 steps/s\n",
      "INFO:MAIN:total steps 501760, returns 0.10/0.09/-0.01/0.49 (mean/median/min/max), 307.98 steps/s\n",
      "INFO:MAIN:total steps 503808, returns 0.13/0.09/-0.01/0.69 (mean/median/min/max), 311.46 steps/s\n",
      "INFO:MAIN:total steps 505856, returns 0.14/0.09/-0.01/0.79 (mean/median/min/max), 311.13 steps/s\n",
      "INFO:MAIN:total steps 507904, returns 0.11/0.09/-0.01/0.49 (mean/median/min/max), 311.89 steps/s\n",
      "INFO:MAIN:total steps 509952, returns 0.09/0.09/-0.01/0.49 (mean/median/min/max), 307.43 steps/s\n",
      "INFO:MAIN:total steps 512000, returns 0.11/0.09/-0.01/0.49 (mean/median/min/max), 313.04 steps/s\n",
      "INFO:MAIN:total steps 514048, returns 0.15/0.09/-0.01/0.99 (mean/median/min/max), 310.88 steps/s\n",
      "INFO:MAIN:total steps 516096, returns 0.14/0.09/-0.01/1.19 (mean/median/min/max), 312.80 steps/s\n",
      "INFO:MAIN:total steps 518144, returns 0.18/0.09/-0.01/1.09 (mean/median/min/max), 310.95 steps/s\n",
      "INFO:MAIN:total steps 520192, returns 0.13/0.09/-0.01/0.49 (mean/median/min/max), 309.81 steps/s\n",
      "INFO:MAIN:total steps 522240, returns 0.14/0.09/-0.01/0.59 (mean/median/min/max), 309.61 steps/s\n"
     ]
    },
    {
     "name": "stderr",
     "output_type": "stream",
     "text": [
      "INFO:MAIN:total steps 524288, returns 0.12/0.09/-0.01/0.49 (mean/median/min/max), 309.55 steps/s\n",
      "INFO:MAIN:total steps 526336, returns 0.12/0.09/-0.01/0.39 (mean/median/min/max), 312.36 steps/s\n",
      "INFO:MAIN:total steps 528384, returns 0.14/0.09/-0.01/0.59 (mean/median/min/max), 307.50 steps/s\n",
      "INFO:MAIN:total steps 530432, returns 0.18/0.09/-0.01/1.19 (mean/median/min/max), 307.01 steps/s\n",
      "INFO:MAIN:total steps 532480, returns 0.18/0.09/-0.01/0.59 (mean/median/min/max), 311.90 steps/s\n",
      "INFO:MAIN:total steps 534528, returns 0.16/0.09/-0.01/0.69 (mean/median/min/max), 311.47 steps/s\n",
      "INFO:MAIN:total steps 536576, returns 0.12/0.09/-0.01/0.69 (mean/median/min/max), 312.18 steps/s\n",
      "INFO:MAIN:total steps 538624, returns 0.16/0.09/-0.01/0.59 (mean/median/min/max), 312.27 steps/s\n",
      "INFO:MAIN:total steps 540672, returns 0.17/0.09/-0.01/0.89 (mean/median/min/max), 307.76 steps/s\n",
      "INFO:MAIN:total steps 542720, returns 0.15/0.09/-0.01/0.69 (mean/median/min/max), 308.86 steps/s\n",
      "INFO:MAIN:total steps 544768, returns 0.14/0.09/-0.01/0.69 (mean/median/min/max), 311.29 steps/s\n",
      "INFO:MAIN:total steps 546816, returns 0.15/0.09/-0.01/0.79 (mean/median/min/max), 311.94 steps/s\n",
      "INFO:MAIN:total steps 548864, returns 0.16/0.09/-0.01/0.69 (mean/median/min/max), 314.93 steps/s\n",
      "INFO:MAIN:total steps 550912, returns 0.17/0.09/-0.01/0.99 (mean/median/min/max), 304.53 steps/s\n",
      "INFO:MAIN:total steps 552960, returns 0.10/0.09/-0.01/0.59 (mean/median/min/max), 312.18 steps/s\n",
      "INFO:MAIN:total steps 555008, returns 0.18/0.09/-0.01/0.99 (mean/median/min/max), 312.96 steps/s\n",
      "INFO:MAIN:total steps 557056, returns 0.15/0.09/-0.01/0.79 (mean/median/min/max), 312.13 steps/s\n",
      "INFO:MAIN:total steps 559104, returns 0.16/0.09/-0.01/1.49 (mean/median/min/max), 308.10 steps/s\n",
      "INFO:MAIN:total steps 561152, returns 0.17/0.09/-0.01/0.69 (mean/median/min/max), 308.98 steps/s\n",
      "INFO:MAIN:total steps 563200, returns 0.21/0.09/-0.01/1.29 (mean/median/min/max), 312.31 steps/s\n",
      "INFO:MAIN:total steps 565248, returns 0.14/0.09/-0.01/0.69 (mean/median/min/max), 305.78 steps/s\n",
      "INFO:MAIN:total steps 567296, returns 0.15/0.09/-0.02/0.59 (mean/median/min/max), 312.74 steps/s\n",
      "INFO:MAIN:total steps 569344, returns 0.23/0.19/-0.01/1.19 (mean/median/min/max), 311.16 steps/s\n",
      "INFO:MAIN:total steps 571392, returns 0.16/0.09/-0.01/0.89 (mean/median/min/max), 309.29 steps/s\n",
      "INFO:MAIN:total steps 573440, returns 0.20/0.09/-0.01/1.09 (mean/median/min/max), 312.32 steps/s\n",
      "INFO:MAIN:total steps 575488, returns 0.15/0.09/-0.01/0.59 (mean/median/min/max), 304.47 steps/s\n",
      "INFO:MAIN:total steps 577536, returns 0.18/0.09/-0.01/1.09 (mean/median/min/max), 312.32 steps/s\n",
      "INFO:MAIN:total steps 579584, returns 0.17/0.09/-0.01/1.29 (mean/median/min/max), 310.98 steps/s\n",
      "INFO:MAIN:total steps 581632, returns 0.16/0.09/-0.01/1.29 (mean/median/min/max), 309.19 steps/s\n",
      "INFO:MAIN:total steps 583680, returns 0.23/0.09/-0.01/0.99 (mean/median/min/max), 310.46 steps/s\n",
      "INFO:MAIN:total steps 585728, returns 0.12/0.09/-0.01/0.49 (mean/median/min/max), 311.20 steps/s\n",
      "INFO:MAIN:total steps 587776, returns 0.25/0.14/-0.01/1.39 (mean/median/min/max), 313.32 steps/s\n",
      "INFO:MAIN:total steps 589824, returns 0.15/0.09/-0.01/0.89 (mean/median/min/max), 313.58 steps/s\n",
      "INFO:MAIN:total steps 591872, returns 0.17/0.09/-0.01/0.59 (mean/median/min/max), 306.77 steps/s\n",
      "INFO:MAIN:total steps 593920, returns 0.26/0.19/-0.01/1.09 (mean/median/min/max), 313.98 steps/s\n",
      "INFO:MAIN:total steps 595968, returns 0.18/0.09/-0.01/0.69 (mean/median/min/max), 311.55 steps/s\n",
      "INFO:MAIN:total steps 598016, returns 0.21/0.09/-0.01/0.99 (mean/median/min/max), 312.51 steps/s\n",
      "INFO:MAIN:total steps 600064, returns 0.18/0.09/-0.01/0.79 (mean/median/min/max), 314.75 steps/s\n",
      "INFO:MAIN:total steps 602112, returns 0.29/0.19/-0.01/1.49 (mean/median/min/max), 302.48 steps/s\n",
      "INFO:MAIN:total steps 604160, returns 0.26/0.09/-0.01/1.39 (mean/median/min/max), 312.65 steps/s\n",
      "INFO:MAIN:total steps 606208, returns 0.23/0.19/-0.01/0.99 (mean/median/min/max), 310.77 steps/s\n",
      "INFO:MAIN:total steps 608256, returns 0.20/0.09/-0.01/0.99 (mean/median/min/max), 310.98 steps/s\n",
      "INFO:MAIN:total steps 610304, returns 0.24/0.19/-0.01/0.89 (mean/median/min/max), 311.15 steps/s\n",
      "INFO:MAIN:total steps 612352, returns 0.30/0.24/-0.01/1.09 (mean/median/min/max), 310.69 steps/s\n",
      "INFO:MAIN:total steps 614400, returns 0.27/0.19/-0.01/1.59 (mean/median/min/max), 308.87 steps/s\n",
      "INFO:MAIN:total steps 616448, returns 0.30/0.14/-0.01/1.49 (mean/median/min/max), 313.16 steps/s\n",
      "INFO:MAIN:total steps 618496, returns 0.23/0.19/-0.01/1.19 (mean/median/min/max), 310.60 steps/s\n",
      "INFO:MAIN:total steps 620544, returns 0.26/0.09/-0.01/1.09 (mean/median/min/max), 308.00 steps/s\n",
      "INFO:MAIN:total steps 622592, returns 0.25/0.19/-0.01/0.99 (mean/median/min/max), 311.33 steps/s\n",
      "INFO:MAIN:total steps 624640, returns 0.27/0.19/-0.01/0.69 (mean/median/min/max), 310.49 steps/s\n",
      "INFO:MAIN:total steps 626688, returns 0.20/0.09/-0.01/0.99 (mean/median/min/max), 312.21 steps/s\n",
      "INFO:MAIN:total steps 628736, returns 0.23/0.09/-0.01/1.39 (mean/median/min/max), 311.86 steps/s\n",
      "INFO:MAIN:total steps 630784, returns 0.23/0.19/-0.01/1.29 (mean/median/min/max), 312.00 steps/s\n",
      "INFO:MAIN:total steps 632832, returns 0.21/0.09/-0.01/1.29 (mean/median/min/max), 308.26 steps/s\n",
      "INFO:MAIN:total steps 634880, returns 0.23/0.14/-0.01/1.29 (mean/median/min/max), 313.47 steps/s\n",
      "INFO:MAIN:total steps 636928, returns 0.26/0.19/-0.01/0.79 (mean/median/min/max), 313.62 steps/s\n",
      "INFO:MAIN:total steps 638976, returns 0.27/0.19/-0.01/0.99 (mean/median/min/max), 309.82 steps/s\n",
      "INFO:MAIN:total steps 641024, returns 0.25/0.19/-0.01/1.59 (mean/median/min/max), 311.28 steps/s\n",
      "INFO:MAIN:total steps 643072, returns 0.28/0.19/-0.01/0.79 (mean/median/min/max), 310.83 steps/s\n",
      "INFO:MAIN:total steps 645120, returns 0.27/0.09/-0.01/1.79 (mean/median/min/max), 311.90 steps/s\n",
      "INFO:MAIN:total steps 647168, returns 0.28/0.19/-0.01/1.29 (mean/median/min/max), 312.42 steps/s\n",
      "INFO:MAIN:total steps 649216, returns 0.28/0.19/-0.01/0.99 (mean/median/min/max), 310.48 steps/s\n",
      "INFO:MAIN:total steps 651264, returns 0.25/0.19/-0.01/0.99 (mean/median/min/max), 311.82 steps/s\n",
      "INFO:MAIN:total steps 653312, returns 0.25/0.19/-0.01/0.89 (mean/median/min/max), 307.76 steps/s\n",
      "INFO:MAIN:total steps 655360, returns 0.30/0.24/-0.01/1.09 (mean/median/min/max), 311.67 steps/s\n",
      "INFO:MAIN:total steps 657408, returns 0.24/0.19/-0.01/1.19 (mean/median/min/max), 313.30 steps/s\n",
      "INFO:MAIN:total steps 659456, returns 0.34/0.19/-0.01/1.49 (mean/median/min/max), 311.52 steps/s\n",
      "INFO:MAIN:total steps 661504, returns 0.21/0.19/-0.01/0.79 (mean/median/min/max), 312.51 steps/s\n",
      "INFO:MAIN:total steps 663552, returns 0.38/0.19/-0.01/2.09 (mean/median/min/max), 311.27 steps/s\n",
      "INFO:MAIN:total steps 665600, returns 0.39/0.19/-0.01/1.79 (mean/median/min/max), 311.63 steps/s\n",
      "INFO:MAIN:total steps 667648, returns 0.29/0.19/-0.01/1.29 (mean/median/min/max), 295.92 steps/s\n",
      "INFO:MAIN:total steps 669696, returns 0.27/0.19/-0.01/0.89 (mean/median/min/max), 304.63 steps/s\n",
      "INFO:MAIN:total steps 671744, returns 0.30/0.19/-0.01/1.69 (mean/median/min/max), 311.76 steps/s\n",
      "INFO:MAIN:total steps 673792, returns 0.27/0.09/-0.01/1.39 (mean/median/min/max), 309.04 steps/s\n",
      "INFO:MAIN:total steps 675840, returns 0.34/0.24/-0.01/1.19 (mean/median/min/max), 305.88 steps/s\n",
      "INFO:MAIN:total steps 677888, returns 0.36/0.19/-0.01/1.79 (mean/median/min/max), 307.72 steps/s\n",
      "INFO:MAIN:total steps 679936, returns 0.31/0.19/-0.01/1.29 (mean/median/min/max), 312.89 steps/s\n",
      "INFO:MAIN:total steps 681984, returns 0.23/0.09/-0.01/1.39 (mean/median/min/max), 311.38 steps/s\n",
      "INFO:MAIN:total steps 684032, returns 0.35/0.29/-0.01/1.29 (mean/median/min/max), 307.97 steps/s\n",
      "INFO:MAIN:total steps 686080, returns 0.25/0.19/-0.01/1.29 (mean/median/min/max), 312.78 steps/s\n",
      "INFO:MAIN:total steps 688128, returns 0.32/0.19/-0.01/1.39 (mean/median/min/max), 312.21 steps/s\n",
      "INFO:MAIN:total steps 690176, returns 0.39/0.19/-0.01/1.59 (mean/median/min/max), 312.09 steps/s\n",
      "INFO:MAIN:total steps 692224, returns 0.35/0.19/-0.01/1.79 (mean/median/min/max), 311.80 steps/s\n",
      "INFO:MAIN:total steps 694272, returns 0.68/0.29/0.09/2.89 (mean/median/min/max), 308.48 steps/s\n",
      "INFO:MAIN:total steps 696320, returns 0.43/0.19/-0.01/1.79 (mean/median/min/max), 312.37 steps/s\n"
     ]
    },
    {
     "name": "stderr",
     "output_type": "stream",
     "text": [
      "INFO:MAIN:total steps 698368, returns 0.36/0.19/-0.01/1.29 (mean/median/min/max), 311.32 steps/s\n",
      "INFO:MAIN:total steps 700416, returns 0.46/0.19/-0.01/1.99 (mean/median/min/max), 311.35 steps/s\n",
      "INFO:MAIN:total steps 702464, returns 0.45/0.19/-0.01/2.19 (mean/median/min/max), 313.23 steps/s\n",
      "INFO:MAIN:total steps 704512, returns 0.21/0.19/-0.01/0.89 (mean/median/min/max), 304.87 steps/s\n",
      "INFO:MAIN:total steps 706560, returns 0.35/0.19/0.09/1.99 (mean/median/min/max), 310.92 steps/s\n",
      "INFO:MAIN:total steps 708608, returns 0.29/0.19/-0.01/1.09 (mean/median/min/max), 312.94 steps/s\n",
      "INFO:MAIN:total steps 710656, returns 0.26/0.19/-0.01/0.99 (mean/median/min/max), 312.26 steps/s\n",
      "INFO:MAIN:total steps 712704, returns 0.25/0.19/-0.01/1.09 (mean/median/min/max), 311.07 steps/s\n",
      "INFO:MAIN:total steps 714752, returns 0.39/0.09/-0.01/2.49 (mean/median/min/max), 304.60 steps/s\n",
      "INFO:MAIN:total steps 716800, returns 0.38/0.29/-0.01/1.49 (mean/median/min/max), 312.28 steps/s\n",
      "INFO:MAIN:total steps 718848, returns 0.28/0.19/-0.01/0.89 (mean/median/min/max), 311.66 steps/s\n",
      "INFO:MAIN:total steps 720896, returns 0.29/0.29/-0.01/0.99 (mean/median/min/max), 312.58 steps/s\n",
      "INFO:MAIN:total steps 722944, returns 0.29/0.19/-0.01/1.69 (mean/median/min/max), 310.25 steps/s\n",
      "INFO:MAIN:total steps 724992, returns 0.23/0.19/-0.01/0.69 (mean/median/min/max), 306.96 steps/s\n",
      "INFO:MAIN:total steps 727040, returns 0.37/0.29/-0.01/1.99 (mean/median/min/max), 313.00 steps/s\n",
      "INFO:MAIN:total steps 729088, returns 0.30/0.19/-0.01/1.29 (mean/median/min/max), 310.14 steps/s\n",
      "INFO:MAIN:total steps 731136, returns 0.25/0.19/-0.01/0.89 (mean/median/min/max), 313.95 steps/s\n",
      "INFO:MAIN:total steps 733184, returns 0.37/0.39/-0.01/1.19 (mean/median/min/max), 308.51 steps/s\n",
      "INFO:MAIN:total steps 735232, returns 0.48/0.29/-0.01/1.29 (mean/median/min/max), 310.77 steps/s\n",
      "INFO:MAIN:total steps 737280, returns 0.29/0.19/-0.01/0.89 (mean/median/min/max), 312.92 steps/s\n",
      "INFO:MAIN:total steps 739328, returns 0.35/0.19/-0.01/1.19 (mean/median/min/max), 314.10 steps/s\n",
      "INFO:MAIN:total steps 741376, returns 0.44/0.29/-0.01/2.09 (mean/median/min/max), 310.11 steps/s\n",
      "INFO:MAIN:total steps 743424, returns 0.34/0.29/-0.01/1.49 (mean/median/min/max), 314.37 steps/s\n",
      "INFO:MAIN:total steps 745472, returns 0.37/0.29/-0.01/1.49 (mean/median/min/max), 306.28 steps/s\n",
      "INFO:MAIN:total steps 747520, returns 0.35/0.19/-0.01/2.29 (mean/median/min/max), 314.13 steps/s\n",
      "INFO:MAIN:total steps 749568, returns 0.44/0.34/-0.01/1.49 (mean/median/min/max), 313.88 steps/s\n",
      "INFO:MAIN:total steps 751616, returns 0.51/0.39/0.09/1.49 (mean/median/min/max), 305.66 steps/s\n",
      "INFO:MAIN:total steps 753664, returns 0.42/0.39/-0.01/1.49 (mean/median/min/max), 315.55 steps/s\n",
      "INFO:MAIN:total steps 755712, returns 0.42/0.29/-0.01/1.39 (mean/median/min/max), 309.68 steps/s\n",
      "INFO:MAIN:total steps 757760, returns 0.47/0.29/-0.01/1.69 (mean/median/min/max), 308.00 steps/s\n",
      "INFO:MAIN:total steps 759808, returns 0.42/0.19/-0.01/3.19 (mean/median/min/max), 313.00 steps/s\n",
      "INFO:MAIN:total steps 761856, returns 0.42/0.29/-0.01/1.59 (mean/median/min/max), 298.07 steps/s\n",
      "INFO:MAIN:total steps 763904, returns 0.51/0.29/-0.01/2.59 (mean/median/min/max), 310.22 steps/s\n",
      "INFO:MAIN:total steps 765952, returns 0.39/0.39/-0.01/1.19 (mean/median/min/max), 309.26 steps/s\n",
      "INFO:MAIN:total steps 768000, returns 0.56/0.29/-0.01/2.39 (mean/median/min/max), 312.05 steps/s\n",
      "INFO:MAIN:total steps 770048, returns 0.53/0.39/-0.01/1.39 (mean/median/min/max), 310.84 steps/s\n",
      "INFO:MAIN:total steps 772096, returns 0.46/0.29/-0.01/2.29 (mean/median/min/max), 313.37 steps/s\n",
      "INFO:MAIN:total steps 774144, returns 0.37/0.29/-0.01/1.49 (mean/median/min/max), 313.35 steps/s\n",
      "INFO:MAIN:total steps 776192, returns 0.41/0.29/-0.01/1.79 (mean/median/min/max), 309.55 steps/s\n",
      "INFO:MAIN:total steps 778240, returns 0.58/0.39/-0.01/3.19 (mean/median/min/max), 311.04 steps/s\n",
      "INFO:MAIN:total steps 780288, returns 0.50/0.29/-0.01/1.88 (mean/median/min/max), 311.28 steps/s\n",
      "INFO:MAIN:total steps 782336, returns 0.29/0.29/-0.01/0.99 (mean/median/min/max), 311.82 steps/s\n",
      "INFO:MAIN:total steps 784384, returns 0.46/0.29/-0.01/2.09 (mean/median/min/max), 314.14 steps/s\n",
      "INFO:MAIN:total steps 786432, returns 0.51/0.39/0.09/1.39 (mean/median/min/max), 307.83 steps/s\n",
      "INFO:MAIN:total steps 788480, returns 0.38/0.29/-0.01/1.38 (mean/median/min/max), 307.03 steps/s\n",
      "INFO:MAIN:total steps 790528, returns 0.57/0.39/-0.01/2.59 (mean/median/min/max), 313.96 steps/s\n",
      "INFO:MAIN:total steps 792576, returns 0.37/0.19/-0.01/1.59 (mean/median/min/max), 311.11 steps/s\n",
      "INFO:MAIN:total steps 794624, returns 0.52/0.29/-0.01/1.99 (mean/median/min/max), 312.75 steps/s\n",
      "INFO:MAIN:total steps 796672, returns 0.29/0.19/-0.01/0.99 (mean/median/min/max), 308.56 steps/s\n",
      "INFO:MAIN:total steps 798720, returns 0.32/0.29/-0.01/0.79 (mean/median/min/max), 312.73 steps/s\n",
      "INFO:MAIN:total steps 800768, returns 0.42/0.29/-0.01/1.99 (mean/median/min/max), 313.22 steps/s\n",
      "INFO:MAIN:total steps 802816, returns 0.50/0.29/0.09/1.99 (mean/median/min/max), 312.87 steps/s\n",
      "INFO:MAIN:total steps 804864, returns 0.45/0.29/-0.01/1.79 (mean/median/min/max), 311.95 steps/s\n",
      "INFO:MAIN:total steps 806912, returns 0.53/0.49/0.09/1.39 (mean/median/min/max), 307.52 steps/s\n",
      "INFO:MAIN:total steps 808960, returns 0.44/0.19/-0.01/1.39 (mean/median/min/max), 310.88 steps/s\n",
      "INFO:MAIN:total steps 811008, returns 0.33/0.19/-0.01/1.59 (mean/median/min/max), 312.09 steps/s\n",
      "INFO:MAIN:total steps 813056, returns 0.34/0.19/-0.01/1.39 (mean/median/min/max), 313.24 steps/s\n",
      "INFO:MAIN:total steps 815104, returns 0.72/0.39/-0.01/2.29 (mean/median/min/max), 310.90 steps/s\n",
      "INFO:MAIN:total steps 817152, returns 0.38/0.19/-0.01/1.69 (mean/median/min/max), 309.44 steps/s\n",
      "INFO:MAIN:total steps 819200, returns 0.35/0.19/0.09/0.99 (mean/median/min/max), 309.38 steps/s\n",
      "INFO:MAIN:total steps 821248, returns 0.40/0.19/0.09/1.49 (mean/median/min/max), 310.11 steps/s\n",
      "INFO:MAIN:total steps 823296, returns 0.48/0.29/-0.01/1.49 (mean/median/min/max), 310.88 steps/s\n",
      "INFO:MAIN:total steps 825344, returns 0.34/0.19/-0.01/1.99 (mean/median/min/max), 309.40 steps/s\n",
      "INFO:MAIN:total steps 827392, returns 0.41/0.34/-0.01/1.19 (mean/median/min/max), 310.38 steps/s\n",
      "INFO:MAIN:total steps 829440, returns 0.55/0.49/-0.01/1.49 (mean/median/min/max), 312.20 steps/s\n",
      "INFO:MAIN:total steps 831488, returns 0.33/0.34/-0.01/0.79 (mean/median/min/max), 310.92 steps/s\n",
      "INFO:MAIN:total steps 833536, returns 0.93/0.64/-0.01/3.49 (mean/median/min/max), 312.81 steps/s\n",
      "INFO:MAIN:total steps 835584, returns 0.67/0.64/-0.01/2.59 (mean/median/min/max), 312.03 steps/s\n"
     ]
    }
   ],
   "source": [
    "from collections import deque\n",
    "\n",
    "rewards_deque = deque(maxlen=100)\n",
    "rewards_all = []\n",
    "run_steps_tennis(agent)"
   ]
  },
  {
   "cell_type": "code",
   "execution_count": 61,
   "metadata": {},
   "outputs": [
    {
     "data": {
      "image/png": "[encoded data removed]",
      "text/plain": [
       "<matplotlib.figure.Figure at 0x11d20ab70>"
      ]
     },
     "metadata": {},
     "output_type": "display_data"
    }
   ],
   "source": [
    "import matplotlib.pyplot as plt\n",
    "%matplotlib inline\n",
    "fig = plt.figure()\n",
    "ax = fig.add_subplot(111)\n",
    "plt.plot(np.arange(len(rewards_all)), rewards_all)\n",
    "plt.ylabel('Score (Total Reward)')\n",
    "plt.xlabel('Episode #')\n",
    "plt.show()"
   ]
  },
  {
   "cell_type": "code",
   "execution_count": 62,
   "metadata": {},
   "outputs": [
    {
     "data": {
      "image/png": "[encoded data removed]",
      "text/plain": [
       "<matplotlib.figure.Figure at 0x11d20a7b8>"
      ]
     },
     "metadata": {},
     "output_type": "display_data"
    }
   ],
   "source": [
    "plt.plot(np.arange(len(rewards_all) - 100, len(rewards_all)), rewards_all[-100:])\n",
    "plt.ylabel('Score (Total Reward)')\n",
    "plt.xlabel('Episode #')\n",
    "plt.show()"
   ]
  },
  {
   "cell_type": "code",
   "execution_count": 63,
   "metadata": {},
   "outputs": [
    {
     "name": "stdout",
     "output_type": "stream",
     "text": [
      "Total Score - Average - over last 100 episodes: 0.503000007905066\n"
     ]
    }
   ],
   "source": [
    "print(\"Total Score - Average - over last 100 episodes: {}\".format(np.mean(rewards_deque)))"
   ]
  },
  {
   "cell_type": "code",
   "execution_count": 64,
   "metadata": {},
   "outputs": [
    {
     "name": "stdout",
     "output_type": "stream",
     "text": [
      "Total Score - Min - over last 100 episodes: -0.009999999776482582\n"
     ]
    }
   ],
   "source": [
    "print(\"Total Score - Min - over last 100 episodes: {}\".format(np.min(rewards_deque)))"
   ]
  },
  {
   "cell_type": "markdown",
   "metadata": {},
   "source": [
    "When finished, you can close the environment."
   ]
  },
  {
   "cell_type": "code",
   "execution_count": 65,
   "metadata": {},
   "outputs": [],
   "source": [
    "env.close()"
   ]
  }
 ],
 "metadata": {
  "kernelspec": {
   "display_name": "drlnd",
   "language": "python",
   "name": "drlnd"
  },
  "language_info": {
   "codemirror_mode": {
    "name": "ipython",
    "version": 3
   },
   "file_extension": ".py",
   "mimetype": "text/x-python",
   "name": "python",
   "nbconvert_exporter": "python",
   "pygments_lexer": "ipython3",
   "version": "3.6.2"
  }
 },
 "nbformat": 4,
 "nbformat_minor": 2
}
